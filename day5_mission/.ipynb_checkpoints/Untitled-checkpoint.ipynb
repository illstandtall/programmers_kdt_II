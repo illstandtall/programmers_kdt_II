{
 "cells": [
  {
   "cell_type": "markdown",
   "metadata": {},
   "source": [
    "4주차가 끝났습니다! 무야호~ (그만큼 열심히 학습하신다는거지!)\n",
    "이번 과제는 Core Mission(핵심 임무)와 Extra Mission(추가 임무)로 이루어져있습니다.\n",
    "\n",
    "Core Mission : 반드시 해결해야 하는 임무\n",
    "Extra Mission : 추가로 해결할 수 있는 임무\n",
    "과제는 week4 내용을 담은 본인의 branch에 /day5_mission 폴더를 추가, 안에 파일을 추가한 후 PR을 날려주세요.\n",
    "\n",
    "여러분이 해결할 수 있는 만큼 해결해주세요. 건승을 빕니다! 🙂"
   ]
  },
  {
   "cell_type": "markdown",
   "metadata": {},
   "source": [
    "## Mission 1. My New Assistant"
   ]
  },
  {
   "cell_type": "markdown",
   "metadata": {},
   "source": [
    "서울에 사는 호주니는 영화 <브론즈 맨>을 보고 감동을 받았다. 특히 브론즈 맨 슈트를 장착했을 때 나오는 어시스턴트 빅수비의 성능에 금치 못했다. 이를 통해 우리의 매일매일의 생활을 윤택하게 만들어 줄 나만의 빅수비를 만들어보면 좋겠다는 생각을 했다. 호주니를 도와 한국형 자비스, 빅수비를 만들어보자."
   ]
  },
  {
   "cell_type": "markdown",
   "metadata": {},
   "source": [
    "### Core Mission"
   ]
  },
  {
   "cell_type": "markdown",
   "metadata": {},
   "source": [
    "제출할 파일 : `bicsubi_core_api.md` , API 구축에 사용되는 파일들\n",
    "\n",
    "다음의 명세에 맞게 API를 작성합니다.\n",
    "\n",
    "`GET /whoami`\n",
    "\n",
    "여러분의 github id를 반환합니다.\n",
    "Example:\n",
    "```json\n",
    "{\n",
    "    \"name\" : \"super-corini\"\n",
    "}\n",
    "```\n",
    "`GET /echo?string=\"string\"`\n",
    "\n",
    "Query String : `string`\n",
    "string 을 반환합니다.\n",
    "```json\n",
    "{\n",
    "   \"value\" : \"string\"\n",
    "}\n",
    "```"
   ]
  },
  {
   "cell_type": "code",
   "execution_count": null,
   "metadata": {},
   "outputs": [],
   "source": [
    "다음의 요구사항에 맞게 API를 설계하고 작성합니다.\n",
    "\n",
    "빅수비는 자원 `weapon` 을 가집니다. 이 `weapon` 은 이름(`name : str`)과 수량(`stock : int`)을 가지며 각각에 대해 **Create, Read, Update, Delete**를 진행할 수 있습니다.\n",
    "Create : 새로운 `weapon` 을 추가\n",
    "Read : 현재 존재하는 `weapon` 을 확인\n",
    "Update : 현재 존재하는 `weapon` 에서 특정 속성(이름, 수량)을 변경\n",
    "Delete : 현재 존재하는 특정 `weapon` 을 삭제\n",
    "작성한 API에 대한 명세(API Docs)를 bicsubi_core_api.md 에 작성하여 제출합니다.\n",
    "\n",
    "모든 API는 작성자가 설계한대로 원활하게 동작되어야합니다.\n",
    "\n"
   ]
  }
 ],
 "metadata": {
  "kernelspec": {
   "display_name": "Python 3",
   "language": "python",
   "name": "python3"
  },
  "language_info": {
   "codemirror_mode": {
    "name": "ipython",
    "version": 3
   },
   "file_extension": ".py",
   "mimetype": "text/x-python",
   "name": "python",
   "nbconvert_exporter": "python",
   "pygments_lexer": "ipython3",
   "version": "3.8.5"
  }
 },
 "nbformat": 4,
 "nbformat_minor": 4
}
